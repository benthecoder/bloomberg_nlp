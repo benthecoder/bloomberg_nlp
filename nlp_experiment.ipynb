{
 "cells": [
  {
   "cell_type": "markdown",
   "metadata": {},
   "source": [
    "# Setup"
   ]
  },
  {
   "cell_type": "code",
   "execution_count": 1,
   "metadata": {},
   "outputs": [
    {
     "name": "stderr",
     "output_type": "stream",
     "text": [
      "[nltk_data] Downloading package stopwords to\n",
      "[nltk_data]     C:\\Users\\miche\\AppData\\Roaming\\nltk_data...\n",
      "[nltk_data]   Unzipping corpora\\stopwords.zip.\n"
     ]
    }
   ],
   "source": [
    "# similarity function\n",
    "from scipy import spatial\n",
    "import pandas as pd\n",
    "\n",
    "import json\n",
    "import pandas as pd\n",
    "\n",
    "import nltk\n",
    "from nltk.corpus import stopwords\n",
    "nltk.download('stopwords')\n",
    "\n",
    "from sklearn.linear_model import LogisticRegression\n",
    "from sklearn.ensemble import RandomForestClassifier, AdaBoostClassifier, GradientBoostingClassifier\n",
    "from sklearn.svm import SVC\n",
    "from sklearn.naive_bayes import MultinomialNB, GaussianNB\n",
    "from sklearn.tree import DecisionTreeClassifier\n",
    "from sklearn.neighbors import KNeighborsClassifier\n",
    "from sklearn.discriminant_analysis import LinearDiscriminantAnalysis\n",
    "from sklearn.model_selection import train_test_split\n",
    "\n",
    "from sklearn.metrics import f1_score\n",
    "\n",
    "\n",
    "def cos_similarity(a, b):\n",
    "    return 1 - spatial.distance.cosine(a, b)\n",
    "\n",
    "\n",
    "# load data\n",
    "challenge = pd.read_csv(\"data/challenge.csv\")\n",
    "cnn = pd.read_csv(\"data/cnn_samples.csv\")\n",
    "federal = pd.read_csv(\"data/federal_samples.csv\")\n",
    "\n",
    "# fix embedding column\n",
    "df = pd.concat([cnn, federal], ignore_index=True)\n",
    "# apply eval on embedding column\n",
    "df[\"embeddings\"] = df[\"embeddings\"].apply(lambda x: eval(x))\n",
    "\n",
    "with open('data/mystery.json') as f:\n",
    "    mystery = json.load(f)\n",
    "\n",
    "\n",
    "# store challenge embeddings\n",
    "all_embeddings = [eval(emb) for emb in challenge['embeddings']]\n",
    "all_embeddings.append(mystery[\"embedding\"])"
   ]
  },
  {
   "cell_type": "markdown",
   "metadata": {},
   "source": [
    "## Compute similarity for each embedding"
   ]
  },
  {
   "cell_type": "code",
   "execution_count": 5,
   "metadata": {},
   "outputs": [
    {
     "data": {
      "text/plain": [
       "'LONDON, England (CNN) -- The Screening Room went to the Theatre Royal in Drury Lane in the heart of '"
      ]
     },
     "execution_count": 5,
     "metadata": {},
     "output_type": "execute_result"
    }
   ],
   "source": [
    "# for each embedding in all_embeddings, compute cosine similarity with embeddings in the df and return the top 5\n",
    "# and from that top 5, apply topic modelling on the text column and return the top 5 topics\n",
    "\n",
    "def get_top_5_similarities(df):\n",
    "\n",
    "    top_5_similarities = []\n",
    "\n",
    "    for embedding in all_embeddings:\n",
    "        df[\"cosine\"] = df[\"embeddings\"].apply(\n",
    "            lambda x: cos_similarity(embedding, x)\n",
    "        )\n",
    "        top_5_similarities.append(df.sort_values(by=\"cosine\", ascending=False).head(5).text.tolist())\n",
    "\n",
    "    return top_5_similarities\n",
    "\n",
    "embeddings_df = get_top_5_similarities(df)\n",
    "embeddings_df[0][0][:100]"
   ]
  },
  {
   "cell_type": "code",
   "execution_count": 6,
   "metadata": {},
   "outputs": [
    {
     "ename": "AttributeError",
     "evalue": "'CountVectorizer' object has no attribute 'get_feature_names_out'",
     "output_type": "error",
     "traceback": [
      "\u001b[1;31m---------------------------------------------------------------------------\u001b[0m",
      "\u001b[1;31mAttributeError\u001b[0m                            Traceback (most recent call last)",
      "\u001b[1;32m<ipython-input-6-3e42de9a0b2b>\u001b[0m in \u001b[0;36m<module>\u001b[1;34m\u001b[0m\n\u001b[0;32m     35\u001b[0m \u001b[1;33m\u001b[0m\u001b[0m\n\u001b[0;32m     36\u001b[0m     \u001b[1;32mfor\u001b[0m \u001b[0mtopic\u001b[0m \u001b[1;32min\u001b[0m \u001b[0mlda\u001b[0m\u001b[1;33m.\u001b[0m\u001b[0mcomponents_\u001b[0m\u001b[1;33m:\u001b[0m\u001b[1;33m\u001b[0m\u001b[1;33m\u001b[0m\u001b[0m\n\u001b[1;32m---> 37\u001b[1;33m         \u001b[0mlda_top_5\u001b[0m\u001b[1;33m.\u001b[0m\u001b[0mappend\u001b[0m\u001b[1;33m(\u001b[0m\u001b[1;33m[\u001b[0m\u001b[0mcv\u001b[0m\u001b[1;33m.\u001b[0m\u001b[0mget_feature_names_out\u001b[0m\u001b[1;33m(\u001b[0m\u001b[1;33m)\u001b[0m\u001b[1;33m[\u001b[0m\u001b[0mi\u001b[0m\u001b[1;33m]\u001b[0m \u001b[1;32mfor\u001b[0m \u001b[0mi\u001b[0m \u001b[1;32min\u001b[0m \u001b[0mtopic\u001b[0m\u001b[1;33m.\u001b[0m\u001b[0margsort\u001b[0m\u001b[1;33m(\u001b[0m\u001b[1;33m)\u001b[0m\u001b[1;33m[\u001b[0m\u001b[1;33m-\u001b[0m\u001b[1;36m5\u001b[0m\u001b[1;33m:\u001b[0m\u001b[1;33m]\u001b[0m\u001b[1;33m]\u001b[0m\u001b[1;33m)\u001b[0m\u001b[1;33m\u001b[0m\u001b[1;33m\u001b[0m\u001b[0m\n\u001b[0m\u001b[0;32m     38\u001b[0m \u001b[1;33m\u001b[0m\u001b[0m\n\u001b[0;32m     39\u001b[0m     \u001b[1;32mfor\u001b[0m \u001b[0mtopic\u001b[0m \u001b[1;32min\u001b[0m \u001b[0mnmf\u001b[0m\u001b[1;33m.\u001b[0m\u001b[0mcomponents_\u001b[0m\u001b[1;33m:\u001b[0m\u001b[1;33m\u001b[0m\u001b[1;33m\u001b[0m\u001b[0m\n",
      "\u001b[1;32m<ipython-input-6-3e42de9a0b2b>\u001b[0m in \u001b[0;36m<listcomp>\u001b[1;34m(.0)\u001b[0m\n\u001b[0;32m     35\u001b[0m \u001b[1;33m\u001b[0m\u001b[0m\n\u001b[0;32m     36\u001b[0m     \u001b[1;32mfor\u001b[0m \u001b[0mtopic\u001b[0m \u001b[1;32min\u001b[0m \u001b[0mlda\u001b[0m\u001b[1;33m.\u001b[0m\u001b[0mcomponents_\u001b[0m\u001b[1;33m:\u001b[0m\u001b[1;33m\u001b[0m\u001b[1;33m\u001b[0m\u001b[0m\n\u001b[1;32m---> 37\u001b[1;33m         \u001b[0mlda_top_5\u001b[0m\u001b[1;33m.\u001b[0m\u001b[0mappend\u001b[0m\u001b[1;33m(\u001b[0m\u001b[1;33m[\u001b[0m\u001b[0mcv\u001b[0m\u001b[1;33m.\u001b[0m\u001b[0mget_feature_names_out\u001b[0m\u001b[1;33m(\u001b[0m\u001b[1;33m)\u001b[0m\u001b[1;33m[\u001b[0m\u001b[0mi\u001b[0m\u001b[1;33m]\u001b[0m \u001b[1;32mfor\u001b[0m \u001b[0mi\u001b[0m \u001b[1;32min\u001b[0m \u001b[0mtopic\u001b[0m\u001b[1;33m.\u001b[0m\u001b[0margsort\u001b[0m\u001b[1;33m(\u001b[0m\u001b[1;33m)\u001b[0m\u001b[1;33m[\u001b[0m\u001b[1;33m-\u001b[0m\u001b[1;36m5\u001b[0m\u001b[1;33m:\u001b[0m\u001b[1;33m]\u001b[0m\u001b[1;33m]\u001b[0m\u001b[1;33m)\u001b[0m\u001b[1;33m\u001b[0m\u001b[1;33m\u001b[0m\u001b[0m\n\u001b[0m\u001b[0;32m     38\u001b[0m \u001b[1;33m\u001b[0m\u001b[0m\n\u001b[0;32m     39\u001b[0m     \u001b[1;32mfor\u001b[0m \u001b[0mtopic\u001b[0m \u001b[1;32min\u001b[0m \u001b[0mnmf\u001b[0m\u001b[1;33m.\u001b[0m\u001b[0mcomponents_\u001b[0m\u001b[1;33m:\u001b[0m\u001b[1;33m\u001b[0m\u001b[1;33m\u001b[0m\u001b[0m\n",
      "\u001b[1;31mAttributeError\u001b[0m: 'CountVectorizer' object has no attribute 'get_feature_names_out'"
     ]
    }
   ],
   "source": [
    "# for each text in embeddings_df, perform topic modelling and return the top 5 topics\n",
    "\n",
    "from sklearn.feature_extraction.text import CountVectorizer\n",
    "from sklearn.decomposition import LatentDirichletAllocation\n",
    "from sklearn.decomposition import NMF\n",
    "from sklearn.decomposition import TruncatedSVD\n",
    "\n",
    "\n",
    "for i, text_list in enumerate(embeddings_df):\n",
    "\n",
    "    # count vectorizer\n",
    "    cv = CountVectorizer(stop_words=\"english\")\n",
    "    cv.fit(text_list)\n",
    "    vectorized_text = cv.transform(text_list)\n",
    "\n",
    "    # LDA\n",
    "    lda = LatentDirichletAllocation(n_components=5, random_state=42)\n",
    "    lda.fit(vectorized_text)\n",
    "    lda_output = lda.transform(vectorized_text)\n",
    "\n",
    "    # NMF \n",
    "    nmf = NMF(n_components=5, random_state=42, init=\"nndsvda\")\n",
    "    nmf.fit(vectorized_text)\n",
    "    nmf_output = nmf.transform(vectorized_text)\n",
    "\n",
    "    # SVD\n",
    "    svd = TruncatedSVD(n_components=5, random_state=42)\n",
    "    svd.fit(vectorized_text)\n",
    "    svd_output = svd.transform(vectorized_text)\n",
    "\n",
    "    # get top 5 topics for each model\n",
    "    lda_top_5 = []\n",
    "    nmf_top_5 = []\n",
    "    svd_top_5 = []\n",
    "\n",
    "    for topic in lda.components_:\n",
    "        lda_top_5.append([cv.get_feature_names_out()[i] for i in topic.argsort()[-5:]])\n",
    "\n",
    "    for topic in nmf.components_:\n",
    "        nmf_top_5.append([cv.get_feature_names_out()[i] for i in topic.argsort()[-5:]])\n",
    "\n",
    "    for topic in svd.components_:\n",
    "        svd_top_5.append([cv.get_feature_names_out()[i] for i in topic.argsort()[-5:]])\n",
    "\n",
    "    print(f\"Top 5 topics for LDA model for challenge {i+1}:\")\n",
    "    # print topic n for topic in lda_top_5\n",
    "    for n, topic in enumerate(lda_top_5):\n",
    "        print(f\"Topic {n+1}: {topic}\")\n",
    "    print()\n",
    "\n",
    "    print(f\"Top 5 topics for NMF model for challenge {i+1}:\")\n",
    "    for n, topic in enumerate(nmf_top_5):\n",
    "        print(f\"Topic {n+1}: {topic}\")\n",
    "    print()\n",
    "    print(f\"Top 5 topics for SVD model for challenge {i+1}:\")\n",
    "    for n, topic in enumerate(svd_top_5):\n",
    "        print(f\"Topic {n+1}: {topic}\")\n",
    "    print()"
   ]
  },
  {
   "cell_type": "markdown",
   "metadata": {},
   "source": [
    "# Build classifier"
   ]
  },
  {
   "cell_type": "code",
   "execution_count": 7,
   "metadata": {},
   "outputs": [
    {
     "data": {
      "text/plain": [
       "CNN         738\n",
       "OSHA         25\n",
       "IRS          24\n",
       "SEC          20\n",
       "USPTO        10\n",
       "HHS          10\n",
       "DOJ          10\n",
       "EEOC         10\n",
       "Treasury     10\n",
       "Name: source, dtype: int64"
      ]
     },
     "execution_count": 7,
     "metadata": {},
     "output_type": "execute_result"
    }
   ],
   "source": [
    "# concatenate cnn and federal samples\n",
    "df = df[df.source != \"FCC\"]\n",
    "df.source.value_counts()"
   ]
  },
  {
   "cell_type": "code",
   "execution_count": 8,
   "metadata": {},
   "outputs": [],
   "source": [
    "X_train, X_test, y_train, y_test = train_test_split(df['embeddings'].to_list(), df['source'].to_list(), test_size=0.2, random_state=42)"
   ]
  },
  {
   "cell_type": "code",
   "execution_count": null,
   "metadata": {},
   "outputs": [],
   "source": []
  },
  {
   "cell_type": "code",
   "execution_count": 214,
   "metadata": {},
   "outputs": [
    {
     "name": "stdout",
     "output_type": "stream",
     "text": [
      "LR: 0.9543297988728392\n",
      "LDA: 0.9481193131320917\n",
      "KNN: 0.945311847276147\n",
      "CART: 0.9266355280298602\n",
      "NB: 0.9005678026058443\n",
      "SVM: 0.9352742628851487\n",
      "RF: 0.9364769093792724\n",
      "AB: 0.826900206396591\n",
      "GB: 0.9177730581022253\n"
     ]
    }
   ],
   "source": [
    "models = []\n",
    "models.append(('LR', LogisticRegression(solver='liblinear', multi_class='ovr')))\n",
    "models.append(('LDA', LinearDiscriminantAnalysis()))\n",
    "models.append(('KNN', KNeighborsClassifier()))\n",
    "models.append(('CART', DecisionTreeClassifier()))\n",
    "models.append(('NB', GaussianNB()))\n",
    "models.append(('SVM', SVC(gamma='auto', )))\n",
    "models.append(('RF', RandomForestClassifier(n_estimators=100)))\n",
    "models.append(('AB', AdaBoostClassifier()))\n",
    "models.append(('GB', GradientBoostingClassifier()))\n",
    "\n",
    "results = []\n",
    "names = []\n",
    "\n",
    "# evaluate each model with embeddings as features\n",
    "\n",
    "from sklearn.model_selection import KFold\n",
    "from sklearn.model_selection import cross_val_score\n",
    "\n",
    "for name, model in models:\n",
    "    # average weigthed \n",
    "    kfold = KFold(n_splits=10, shuffle=True)\n",
    "    cv_results = cross_val_score(model, X_train, y_train, cv=kfold, scoring='f1_weighted')\n",
    "    results.append(cv_results)\n",
    "    names.append(name)\n",
    "    print(f\"{name}: {cv_results.mean()}\")"
   ]
  },
  {
   "cell_type": "code",
   "execution_count": 14,
   "metadata": {},
   "outputs": [
    {
     "name": "stdout",
     "output_type": "stream",
     "text": [
      "Fscore for c = 0.01 is 0.9120135850794383\n",
      "Fscore for c = 0.1 is 0.935747712011615\n",
      "Fscore for c = 0.5 is 0.9557288393044208\n",
      "Fscore for c = 1 is 0.9557288393044208\n",
      "Fscore for c = 1.5 is 0.9557288393044208\n",
      "Fscore for c = 2 is 0.9557288393044208\n",
      "Fscore for c = 5 is 0.9557288393044208\n",
      "Fscore for c = 10 is 0.9557288393044208\n"
     ]
    }
   ],
   "source": [
    "# Logistic Regression with Regularization Values \n",
    "c_vals = [0.01, 0.1, 0.5, 1, 1.5, 2, 5, 10]\n",
    "for c in c_vals: \n",
    "    lr = LogisticRegression(solver='liblinear', multi_class='ovr', C=c, penalty='l2')\n",
    "    lr.fit(X_train, y_train)\n",
    "    y_pred = lr.predict(X_test)\n",
    "    print(\"Fscore for c =\",c,\"is\",(f1_score(y_test, y_pred, average='weighted')))\n"
   ]
  },
  {
   "cell_type": "code",
   "execution_count": 11,
   "metadata": {},
   "outputs": [
    {
     "data": {
      "text/plain": [
       "0.947917476860854"
      ]
     },
     "execution_count": 11,
     "metadata": {},
     "output_type": "execute_result"
    }
   ],
   "source": [
    "# test logistic regression on test set\n",
    "\n",
    "lr = LogisticRegression(solver='liblinear', multi_class='ovr')\n",
    "lr.fit(X_train, y_train)\n",
    "y_pred = lr.predict(X_test)\n",
    "f1_score(y_test, y_pred, average='weighted')"
   ]
  },
  {
   "cell_type": "markdown",
   "metadata": {},
   "source": [
    "## mystery challenge"
   ]
  },
  {
   "cell_type": "code",
   "execution_count": 12,
   "metadata": {},
   "outputs": [],
   "source": [
    "mystery_embed = all_embeddings[5]"
   ]
  },
  {
   "cell_type": "code",
   "execution_count": 13,
   "metadata": {},
   "outputs": [
    {
     "data": {
      "text/plain": [
       "array(['CNN'], dtype='<U8')"
      ]
     },
     "execution_count": 13,
     "metadata": {},
     "output_type": "execute_result"
    }
   ],
   "source": [
    "lr.predict([mystery_embed])"
   ]
  }
 ],
 "metadata": {
  "kernelspec": {
   "display_name": "Python 3.8.3 ('base')",
   "language": "python",
   "name": "python3"
  },
  "language_info": {
   "codemirror_mode": {
    "name": "ipython",
    "version": 3
   },
   "file_extension": ".py",
   "mimetype": "text/x-python",
   "name": "python",
   "nbconvert_exporter": "python",
   "pygments_lexer": "ipython3",
   "version": "3.8.3"
  },
  "orig_nbformat": 4,
  "vscode": {
   "interpreter": {
    "hash": "f82454df3ab4669350e470cecfad51160e6fdff8e76eafd19d8880dd92d922a3"
   }
  }
 },
 "nbformat": 4,
 "nbformat_minor": 2
}
