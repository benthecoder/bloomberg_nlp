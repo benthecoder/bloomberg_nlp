{
 "cells": [
  {
   "cell_type": "markdown",
   "metadata": {},
   "source": [
    "# Setup"
   ]
  },
  {
   "cell_type": "code",
   "execution_count": 169,
   "metadata": {},
   "outputs": [
    {
     "name": "stderr",
     "output_type": "stream",
     "text": [
      "[nltk_data] Downloading package stopwords to\n",
      "[nltk_data]     /Users/benedictneo/nltk_data...\n",
      "[nltk_data]   Unzipping corpora/stopwords.zip.\n"
     ]
    }
   ],
   "source": [
    "# similarity function\n",
    "from scipy import spatial\n",
    "import pandas as pd\n",
    "\n",
    "import json\n",
    "import pandas as pd\n",
    "\n",
    "import nltk\n",
    "from nltk.corpus import stopwords\n",
    "nltk.download('stopwords')\n",
    "\n",
    "\n",
    "def cos_similarity(a, b):\n",
    "    return 1 - spatial.distance.cosine(a, b)\n",
    "\n",
    "\n",
    "# load data\n",
    "challenge = pd.read_csv(\"data/challenge.csv\")\n",
    "cnn = pd.read_csv(\"data/cnn_samples.csv\")\n",
    "federal = pd.read_csv(\"data/federal_samples.csv\")\n",
    "\n",
    "# fix embedding column\n",
    "df = pd.concat([cnn, federal], ignore_index=True)\n",
    "# apply eval on embedding column\n",
    "df[\"embeddings\"] = df[\"embeddings\"].apply(lambda x: eval(x))\n",
    "\n",
    "with open('data/mystery.json') as f:\n",
    "    mystery = json.load(f)\n",
    "\n",
    "\n",
    "# store challenge embeddings\n",
    "all_embeddings = [eval(emb) for emb in challenge['embeddings']]\n",
    "all_embeddings.append(mystery[\"embedding\"])"
   ]
  },
  {
   "cell_type": "markdown",
   "metadata": {},
   "source": [
    "## Compute similarity for each embedding"
   ]
  },
  {
   "cell_type": "code",
   "execution_count": 167,
   "metadata": {},
   "outputs": [
    {
     "data": {
      "text/plain": [
       "'LONDON, England (CNN) -- The Screening Room went to the Theatre Royal in Drury Lane in the heart of '"
      ]
     },
     "execution_count": 167,
     "metadata": {},
     "output_type": "execute_result"
    }
   ],
   "source": [
    "# for each embedding in all_embeddings, compute cosine similarity with embeddings in the df and return the top 5\n",
    "# and from that top 5, apply topic modelling on the text column and return the top 5 topics\n",
    "\n",
    "def get_top_5_similarities(df):\n",
    "\n",
    "    top_5_similarities = []\n",
    "\n",
    "    for embedding in all_embeddings:\n",
    "        df[\"cosine\"] = df[\"embeddings\"].apply(\n",
    "            lambda x: cos_similarity(embedding, x)\n",
    "        )\n",
    "        top_5_similarities.append(df.sort_values(by=\"cosine\", ascending=False).head(5).text.tolist())\n",
    "\n",
    "    return top_5_similarities\n",
    "\n",
    "embeddings_df = get_top_5_similarities(df)\n",
    "embeddings_df[0][0][:100]"
   ]
  },
  {
   "cell_type": "code",
   "execution_count": 185,
   "metadata": {},
   "outputs": [
    {
     "name": "stdout",
     "output_type": "stream",
     "text": [
      "Top 5 topics for LDA model for challenge 1:\n",
      "Topic 1: ['ciudad', 'real', 'spanish', 'year', 'airport']\n",
      "Topic 2: ['asia', 'shoot', 'world', 'outside', 'million']\n",
      "Topic 3: ['theme', 'malaysia', 'legoland', 'park', 'water']\n",
      "Topic 4: ['asia', 'shoot', 'world', 'outside', 'million']\n",
      "Topic 5: ['training', 'space', '2014', 'travel', 'dates']\n",
      "\n",
      "Top 5 topics for NMF model for challenge 1:\n",
      "Topic 1: ['book', 'valid', '2014', 'travel', 'dates']\n",
      "Topic 2: ['flight', 'said', 'garriott', 'training', 'space']\n",
      "Topic 3: ['ciudad', 'real', 'year', 'spanish', 'airport']\n",
      "Topic 4: ['composer', 'indian', 'film', 'music', 'rahman']\n",
      "Topic 5: ['lego', 'malaysia', 'legoland', 'park', 'water']\n",
      "\n",
      "Top 5 topics for SVD model for challenge 1:\n",
      "Topic 1: ['valid', 'book', '2014', 'travel', 'dates']\n",
      "Topic 2: ['air', 'garriott', 'said', 'training', 'space']\n",
      "Topic 3: ['ciudad', 'real', 'spanish', 'year', 'airport']\n",
      "Topic 4: ['composer', 'indian', 'film', 'music', 'rahman']\n",
      "Topic 5: ['lego', 'malaysia', 'legoland', 'park', 'water']\n",
      "\n",
      "Top 5 topics for LDA model for challenge 2:\n",
      "Topic 1: ['sept', 'uk', 'oct', 'billion', 'bank']\n",
      "Topic 2: ['lose', 'really', 'close', 'time', 'plans']\n",
      "Topic 3: ['lose', 'really', 'close', 'time', 'plans']\n",
      "Topic 4: ['city', 'protests', 'said', 'financial', 'police']\n",
      "Topic 5: ['lindt', 'dempsey', 'tully', 'said', 'coffee']\n",
      "\n",
      "Top 5 topics for NMF model for challenge 2:\n",
      "Topic 1: ['sept', 'uk', 'oct', 'billion', 'bank']\n",
      "Topic 2: ['city', 'thursday', 'protests', 'financial', 'police']\n",
      "Topic 3: ['said', 'seattle', 'tully', 'dempsey', 'coffee']\n",
      "Topic 4: ['chocolate', 'billion', 'tanner', 'markets', 'lindt']\n",
      "Topic 5: ['really', 'alves', 'right', 'maybe', 'mcconaughey']\n",
      "\n",
      "Top 5 topics for SVD model for challenge 2:\n",
      "Topic 1: ['sept', 'uk', 'oct', 'billion', 'bank']\n",
      "Topic 2: ['thursday', 'said', 'protests', 'financial', 'police']\n",
      "Topic 3: ['said', 'seattle', 'tully', 'dempsey', 'coffee']\n",
      "Topic 4: ['franc', 'chocolate', 'tanner', 'year', 'lindt']\n",
      "Topic 5: ['really', 'maybe', 'right', 'alves', 'mcconaughey']\n",
      "\n",
      "Top 5 topics for LDA model for challenge 3:\n",
      "Topic 1: ['saudi', 'fever', 'health', 'dengue', 'said']\n",
      "Topic 2: ['concern', 'told', 'people', 'organization', 'virus']\n",
      "Topic 3: ['seychelles', 'ebola', 'health', 'sierra', 'leone']\n",
      "Topic 4: ['vaccination', 'said', 'year', 'pakistan', 'polio']\n",
      "Topic 5: ['customers', 'quintas', 'h1n1', 'restaurant', 'measures']\n",
      "\n",
      "Top 5 topics for NMF model for challenge 3:\n",
      "Topic 1: ['cdc', 'health', 'fever', 'said', 'dengue']\n",
      "Topic 2: ['said', 'vaccination', 'year', 'pakistan', 'polio']\n",
      "Topic 3: ['staff', 'quintas', 'restaurants', 'measures', 'restaurant']\n",
      "Topic 4: ['health', 'seychelles', 'ebola', 'sierra', 'leone']\n",
      "Topic 5: ['year', 'hajj', 'health', 'arabia', 'saudi']\n",
      "\n",
      "Top 5 topics for SVD model for challenge 3:\n",
      "Topic 1: ['polio', 'fever', 'health', 'dengue', 'said']\n",
      "Topic 2: ['campaign', 'vaccination', 'year', 'pakistan', 'polio']\n",
      "Topic 3: ['staff', 'customers', 'h1n1', 'measures', 'restaurant']\n",
      "Topic 4: ['health', 'ebola', 'seychelles', 'leone', 'sierra']\n",
      "Topic 5: ['people', 'year', 'hajj', 'arabia', 'saudi']\n",
      "\n",
      "Top 5 topics for LDA model for challenge 4:\n",
      "Topic 1: ['detainees', 'parwan', 'facility', 'afghan', 'agreement']\n",
      "Topic 2: ['tombs', 'mali', 'area', 'people', 'said']\n",
      "Topic 3: ['flotilla', 'greek', 'farc', 'government', 'said']\n",
      "Topic 4: ['country', 'group', 'cnn', 'according', 'groups']\n",
      "Topic 5: ['korea', 'human', 'council', 'rights', 'north']\n",
      "\n",
      "Top 5 topics for NMF model for challenge 4:\n",
      "Topic 1: ['detainees', 'parwan', 'facility', 'afghan', 'agreement']\n",
      "Topic 2: ['korea', 'human', 'council', 'rights', 'north']\n",
      "Topic 3: ['santos', 'talks', 'government', 'said', 'farc']\n",
      "Topic 4: ['activists', 'israeli', 'said', 'flotilla', 'greek']\n",
      "Topic 5: ['people', 'area', 'mali', 'tombs', 'said']\n",
      "\n",
      "Top 5 topics for SVD model for challenge 4:\n",
      "Topic 1: ['government', 'afghan', 'agreement', 'north', 'said']\n",
      "Topic 2: ['korea', 'council', 'human', 'rights', 'north']\n",
      "Topic 3: ['flotilla', 'greek', 'said', 'farc', 'government']\n",
      "Topic 4: ['ship', 'boats', 'israeli', 'flotilla', 'greek']\n",
      "Topic 5: ['said', 'people', 'area', 'mali', 'tombs']\n",
      "\n",
      "Top 5 topics for LDA model for challenge 5:\n",
      "Topic 1: ['long', 'friday', 'said', 'power', 'new']\n",
      "Topic 2: ['despite', 'natural', 'going', 'situation', 'south']\n",
      "Topic 3: ['woodland', 'warren', 'species', 'conservation', 'butterfly']\n",
      "Topic 4: ['feet', 'missouri', 'flood', 'river', 'said']\n",
      "Topic 5: ['scenario', 'domjan', 'carbon', 'change', 'global']\n",
      "\n",
      "Top 5 topics for NMF model for challenge 5:\n",
      "Topic 1: ['scenario', 'domjan', 'carbon', 'change', 'global']\n",
      "Topic 2: ['residents', 'long', 'said', 'power', 'new']\n",
      "Topic 3: ['feet', 'missouri', 'flood', 'river', 'said']\n",
      "Topic 4: ['woodland', 'warren', 'species', 'conservation', 'butterfly']\n",
      "Topic 5: ['97', 'state', 'wildfire', 'michigan', 'miles']\n",
      "\n",
      "Top 5 topics for SVD model for challenge 5:\n",
      "Topic 1: ['scenario', 'domjan', 'carbon', 'global', 'change']\n",
      "Topic 2: ['long', 'residents', 'power', 'new', 'said']\n",
      "Topic 3: ['said', 'feet', 'missouri', 'flood', 'river']\n",
      "Topic 4: ['warren', 'species', 'woodland', 'conservation', 'butterfly']\n",
      "Topic 5: ['department', 'state', 'wildfire', 'michigan', 'miles']\n",
      "\n",
      "Top 5 topics for LDA model for challenge 6:\n",
      "Topic 1: ['leg', 'stop', 'plans', 'saturday', 'used']\n",
      "Topic 2: ['security', 'syria', 'people', 'syrian', 'said']\n",
      "Topic 3: ['syria', 'people', 'opposition', 'syrian', 'said']\n",
      "Topic 4: ['fast', 'said', 'study', 'power', 'status']\n",
      "Topic 5: ['going', 'mets', 'york', 'said', 'new']\n",
      "\n",
      "Top 5 topics for NMF model for challenge 6:\n",
      "Topic 1: ['security', 'syria', 'people', 'syrian', 'said']\n",
      "Topic 2: ['people', 'said', 'study', 'power', 'status']\n",
      "Topic 3: ['said', 'going', 'york', 'mets', 'new']\n",
      "Topic 4: ['people', 'syria', 'opposition', 'syrian', 'said']\n",
      "Topic 5: ['family', 'obama', 'washington', 'memorial', 'lincoln']\n",
      "\n",
      "Top 5 topics for SVD model for challenge 6:\n",
      "Topic 1: ['security', 'syria', 'syrian', 'people', 'said']\n",
      "Topic 2: ['low', 'demeaning', 'study', 'power', 'status']\n",
      "Topic 3: ['stadium', 'mets', 'york', 'going', 'new']\n",
      "Topic 4: ['conference', 'moadamiyeh', 'humanitarian', 'opposition', 'said']\n",
      "Topic 5: ['family', 'washington', 'obama', 'memorial', 'lincoln']\n",
      "\n"
     ]
    }
   ],
   "source": [
    "# for each text in embeddings_df, perform topic modelling and return the top 5 topics\n",
    "\n",
    "from sklearn.feature_extraction.text import CountVectorizer\n",
    "from sklearn.decomposition import LatentDirichletAllocation\n",
    "from sklearn.decomposition import NMF\n",
    "from sklearn.decomposition import TruncatedSVD\n",
    "\n",
    "\n",
    "for i, text_list in enumerate(embeddings_df):\n",
    "\n",
    "    # count vectorizer\n",
    "    cv = CountVectorizer(stop_words=\"english\")\n",
    "    cv.fit(text_list)\n",
    "    vectorized_text = cv.transform(text_list)\n",
    "\n",
    "    # LDA\n",
    "    lda = LatentDirichletAllocation(n_components=5, random_state=42)\n",
    "    lda.fit(vectorized_text)\n",
    "    lda_output = lda.transform(vectorized_text)\n",
    "\n",
    "    # NMF \n",
    "    nmf = NMF(n_components=5, random_state=42, init=\"nndsvda\")\n",
    "    nmf.fit(vectorized_text)\n",
    "    nmf_output = nmf.transform(vectorized_text)\n",
    "\n",
    "    # SVD\n",
    "    svd = TruncatedSVD(n_components=5, random_state=42)\n",
    "    svd.fit(vectorized_text)\n",
    "    svd_output = svd.transform(vectorized_text)\n",
    "\n",
    "    # get top 5 topics for each model\n",
    "    lda_top_5 = []\n",
    "    nmf_top_5 = []\n",
    "    svd_top_5 = []\n",
    "\n",
    "    for topic in lda.components_:\n",
    "        lda_top_5.append([cv.get_feature_names_out()[i] for i in topic.argsort()[-5:]])\n",
    "\n",
    "    for topic in nmf.components_:\n",
    "        nmf_top_5.append([cv.get_feature_names_out()[i] for i in topic.argsort()[-5:]])\n",
    "\n",
    "    for topic in svd.components_:\n",
    "        svd_top_5.append([cv.get_feature_names_out()[i] for i in topic.argsort()[-5:]])\n",
    "\n",
    "    print(f\"Top 5 topics for LDA model for challenge {i+1}:\")\n",
    "    # print topic n for topic in lda_top_5\n",
    "    for n, topic in enumerate(lda_top_5):\n",
    "        print(f\"Topic {n+1}: {topic}\")\n",
    "    print()\n",
    "\n",
    "    print(f\"Top 5 topics for NMF model for challenge {i+1}:\")\n",
    "    for n, topic in enumerate(nmf_top_5):\n",
    "        print(f\"Topic {n+1}: {topic}\")\n",
    "    print()\n",
    "    print(f\"Top 5 topics for SVD model for challenge {i+1}:\")\n",
    "    for n, topic in enumerate(svd_top_5):\n",
    "        print(f\"Topic {n+1}: {topic}\")\n",
    "    print()"
   ]
  },
  {
   "cell_type": "markdown",
   "metadata": {},
   "source": [
    "# Build classifier"
   ]
  },
  {
   "cell_type": "code",
   "execution_count": 208,
   "metadata": {},
   "outputs": [
    {
     "data": {
      "text/plain": [
       "CNN         738\n",
       "OSHA         25\n",
       "IRS          24\n",
       "SEC          20\n",
       "DOJ          10\n",
       "EEOC         10\n",
       "USPTO        10\n",
       "Treasury     10\n",
       "HHS          10\n",
       "Name: source, dtype: int64"
      ]
     },
     "execution_count": 208,
     "metadata": {},
     "output_type": "execute_result"
    }
   ],
   "source": [
    "# concatenate cnn and federal samples\n",
    "df = df[df.source != \"FCC\"]\n",
    "df.source.value_counts()"
   ]
  },
  {
   "cell_type": "code",
   "execution_count": 214,
   "metadata": {},
   "outputs": [
    {
     "name": "stdout",
     "output_type": "stream",
     "text": [
      "LR: 0.9543297988728392\n",
      "LDA: 0.9481193131320917\n",
      "KNN: 0.945311847276147\n",
      "CART: 0.9266355280298602\n",
      "NB: 0.9005678026058443\n",
      "SVM: 0.9352742628851487\n",
      "RF: 0.9364769093792724\n",
      "AB: 0.826900206396591\n",
      "GB: 0.9177730581022253\n"
     ]
    }
   ],
   "source": [
    "from sklearn.linear_model import LogisticRegression\n",
    "from sklearn.ensemble import RandomForestClassifier, AdaBoostClassifier, GradientBoostingClassifier\n",
    "from sklearn.svm import SVC\n",
    "from sklearn.naive_bayes import MultinomialNB, GaussianNB\n",
    "from sklearn.tree import DecisionTreeClassifier\n",
    "from sklearn.neighbors import KNeighborsClassifier\n",
    "from sklearn.discriminant_analysis import LinearDiscriminantAnalysis\n",
    "from sklearn.model_selection import train_test_split\n",
    "\n",
    "from sklearn.metrics import f1_score\n",
    "\n",
    "X_train, X_test, y_train, y_test = train_test_split(df['embeddings'].to_list(), df['source'].to_list(), test_size=0.2, random_state=42)\n",
    "\n",
    "\n",
    "models = []\n",
    "models.append(('LR', LogisticRegression(solver='liblinear', multi_class='ovr')))\n",
    "models.append(('LDA', LinearDiscriminantAnalysis()))\n",
    "models.append(('KNN', KNeighborsClassifier()))\n",
    "models.append(('CART', DecisionTreeClassifier()))\n",
    "models.append(('NB', GaussianNB()))\n",
    "models.append(('SVM', SVC(gamma='auto')))\n",
    "models.append(('RF', RandomForestClassifier(n_estimators=100)))\n",
    "models.append(('AB', AdaBoostClassifier()))\n",
    "# models.append(('GB', GradientBoostingClassifier()))\n",
    "\n",
    "results = []\n",
    "names = []\n",
    "\n",
    "# evaluate each model with embeddings as features\n",
    "\n",
    "from sklearn.model_selection import KFold\n",
    "from sklearn.model_selection import cross_val_score\n",
    "\n",
    "for name, model in models:\n",
    "    # average weigthed \n",
    "    kfold = KFold(n_splits=10, shuffle=True)\n",
    "    cv_results = cross_val_score(model, X_train, y_train, cv=kfold, scoring='f1_weighted')\n",
    "    results.append(cv_results)\n",
    "    names.append(name)\n",
    "    print(f\"{name}: {cv_results.mean()}\")"
   ]
  },
  {
   "cell_type": "code",
   "execution_count": 215,
   "metadata": {},
   "outputs": [
    {
     "data": {
      "text/plain": [
       "0.9557288393044208"
      ]
     },
     "execution_count": 215,
     "metadata": {},
     "output_type": "execute_result"
    }
   ],
   "source": [
    "# test logistic regression on test set\n",
    "\n",
    "lr = LogisticRegression(solver='liblinear', multi_class='ovr')\n",
    "lr.fit(X_train, y_train)\n",
    "y_pred = lr.predict(X_test)\n",
    "f1_score(y_test, y_pred, average='weighted')"
   ]
  }
 ],
 "metadata": {
  "kernelspec": {
   "display_name": "Python 3.9.10 ('base')",
   "language": "python",
   "name": "python3"
  },
  "language_info": {
   "codemirror_mode": {
    "name": "ipython",
    "version": 3
   },
   "file_extension": ".py",
   "mimetype": "text/x-python",
   "name": "python",
   "nbconvert_exporter": "python",
   "pygments_lexer": "ipython3",
   "version": "3.9.10"
  },
  "orig_nbformat": 4,
  "vscode": {
   "interpreter": {
    "hash": "0f1e841692445df6c0f476977380d4c26cc40d52508098a18c340919add514d9"
   }
  }
 },
 "nbformat": 4,
 "nbformat_minor": 2
}
